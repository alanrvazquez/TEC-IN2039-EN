{
  "cells": [
    {
      "cell_type": "markdown",
      "metadata": {},
      "source": [
        "---\n",
        "title: Introduction to Simple Regression \n",
        "subtitle: \"IN2039: Data Visualization for Decision Making\"\n",
        "author: \n",
        "  - name: Alan R. Vazquez\n",
        "    affiliations:\n",
        "      - name: Department of Industrial Engineering\n",
        "format: \n",
        "  revealjs:\n",
        "    chalkboard: true\n",
        "    multiplex: true\n",
        "    footer: \"Tecnologico de Monterrey\"\n",
        "    logo: IN2039_logo.png\n",
        "    css: style.css\n",
        "    slide-number: True\n",
        "    html-math-method: mathjax\n",
        "execute:\n",
        "  echo: true\n",
        "editor: visual\n",
        "---\n",
        "\n",
        "\n",
        "## Agenda\n",
        "\n",
        "</br>\n",
        "\n",
        "1.  Introduction\n",
        "\n",
        "2.  Relationship between two numerical variables\n",
        "\n",
        "3.  Simple linear regression\n",
        "\n",
        "4.  Local regression\n",
        "\n",
        "## Loading the Libraries\n",
        "\n",
        "</br>\n",
        "\n",
        "Let's import the `pandas`, `matplotlib`, and `seaborn` in Google Colab.\n"
      ],
      "id": "2cd571e3"
    },
    {
      "cell_type": "code",
      "metadata": {},
      "source": [
        "#| echo: true\n",
        "#| output: false\n",
        "\n",
        "import pandas as pd\n",
        "import matplotlib.pyplot as plt\n",
        "import seaborn as sns"
      ],
      "id": "d514bb73",
      "execution_count": null,
      "outputs": []
    },
    {
      "cell_type": "markdown",
      "metadata": {},
      "source": [
        "## Example\n",
        "\n",
        "</br>\n",
        "\n",
        "We will use data from 392 cars, including miles per gallon, number of cylinders, horsepower, weight, acceleration, year, origin, and other variables.\n",
        "\n",
        "The data is in the file \"auto_dataset.xlsx\".\n"
      ],
      "id": "c95d60bd"
    },
    {
      "cell_type": "code",
      "metadata": {},
      "source": [
        "#| echo: true\n",
        "#| output: false\n",
        "\n",
        "auto_data = pd.read_excel(\"auto_dataset.xlsx\")\n",
        "# Set categorical variable.\n",
        "auto_data[['origin']] = auto_data[['origin']].astype('category')"
      ],
      "id": "6b12483a",
      "execution_count": null,
      "outputs": []
    },
    {
      "cell_type": "markdown",
      "metadata": {},
      "source": [
        "## \n"
      ],
      "id": "22dbb66a"
    },
    {
      "cell_type": "code",
      "metadata": {},
      "source": [
        "#| echo: false\n",
        "#| output: true\n",
        "\n",
        "auto_data.head(4)"
      ],
      "id": "584fac0c",
      "execution_count": null,
      "outputs": []
    },
    {
      "cell_type": "markdown",
      "metadata": {},
      "source": [
        "# Relationship Between Two Numerical Variables\n",
        "\n",
        "## Principle 1: Formulate the question or message\n",
        "\n",
        "</br>\n",
        "\n",
        "Questions we can answer with simple linear regression:\n",
        "\n",
        "::: incremental\n",
        "-   Is there a relationship between a response variable and predictors?\n",
        "\n",
        "-   How strong is the relationship?\n",
        "\n",
        "-   What is the uncertainty?\n",
        "\n",
        "-   How precisely can we predict a future outcome?\n",
        ":::\n",
        "\n",
        "## \n",
        "\n",
        "Is there a relationship between a car's weight and its miles per gallon?\n"
      ],
      "id": "0a890d6f"
    },
    {
      "cell_type": "code",
      "metadata": {},
      "source": [
        "#| fig-align: center\n",
        "#| echo: false\n",
        "#| code-fold: true\n",
        "\n",
        "plt.figure(figsize=(8, 6))\n",
        "sns.scatterplot(data=auto_data, x=\"weight\", y=\"mpg\", color=\"darkblue\", s=50)\n",
        "plt.xlabel(\"Weight (lb)\", fontsize=15)\n",
        "plt.ylabel(\"Miles per Gallon\", fontsize=15)\n",
        "plt.xticks(fontsize=10)\n",
        "plt.yticks(fontsize=10)\n",
        "plt.show()"
      ],
      "id": "dec795d4",
      "execution_count": null,
      "outputs": []
    },
    {
      "cell_type": "markdown",
      "metadata": {},
      "source": [
        "## Regression problem\n",
        "\n",
        "</br>\n",
        "\n",
        "**Objetive**: Find the best function $f(X)$ of the predictor $X$ that describes the response $Y$.\n",
        "\n",
        ". . .\n",
        "\n",
        "Mathematically, we want to establish the following relationship:\n",
        "\n",
        "$$\n",
        "Y = f(X) + \\epsilon,\n",
        "$$\n",
        "\n",
        "where $\\epsilon$ is a natural (random) error.\n",
        "\n",
        "## \n",
        "\n",
        "</br>\n",
        "\n",
        "-   In practice, it is very difficult to know the true structure of the function $f(X)$.\n",
        "\n",
        "::: incremental\n",
        "-   The best we can do is construct an approximation (function) $\\hat{f}(X)$.\n",
        "\n",
        "-   There are several strategies to build $\\hat{f}(X)$, one of the most common is:\n",
        "\n",
        "    1.  Define a simple \"structure\" or \"formula.\"\n",
        "    2.  Estimate the elements of the \"formula\" using the data.\n",
        ":::\n",
        "\n",
        "# Simple linear regression\n",
        "\n",
        "## Linear regression model\n",
        "\n",
        "A very common function $f(X)$ to predict a response $Y$ is the **linear regression model**.\n",
        "\n",
        "Its mathematical form is:\n",
        "\n",
        "$$\n",
        "\\hat{Y}_i = \\hat{\\beta}_0 + \\hat{\\beta}_1 X_i,\n",
        "$$\n",
        "\n",
        "::: incremental\n",
        "-   Where $i$ is the index of the $n$ observations, and\n",
        "-   $\\hat{Y}_i$ is the predicted value of the actual response $Y_i$ associated with a predictor value $X_i$.\n",
        "-   The values $\\hat{\\beta}_0$ and $\\hat{\\beta}_1$ are called [coefficients]{style=\"color:darkblue;\"} of the model.\n",
        ":::\n",
        "\n",
        "## Principle 2: Turn data into information\n",
        "\n",
        "The values of $\\hat{\\beta}_0$ and $\\hat{\\beta}_1$ are obtained using the data. Specifically, the formulas for the coefficients are:\n",
        "\n",
        "$$\\hat{\\beta}_1 = \\frac{ \\sum_{i=1}^{n} (Y_i - \\bar{Y}) (X_i - \\bar{X}) }{\\sum_{i=1}^{n} (X_i - \\bar{X})^2} \\text{  y  } \\hat{\\beta}_0 = \\bar{Y} - \\hat{\\beta}_1 \\bar{X},$$\n",
        "\n",
        "where $\\bar{X} = \\sum_{i=1}^n X_i/n$ and $\\bar{Y} = \\sum_{i=1}^n Y_i/n$.\n",
        "\n",
        "These formulas are derived from the method of [*least squares*]{style=\"color:orange;\"}.\n",
        "\n",
        "## Fitting regression models in Python\n",
        "\n",
        "To fit a linear regression model, we use the `regplot()` in **seaborn**.\n"
      ],
      "id": "9e20aab1"
    },
    {
      "cell_type": "code",
      "metadata": {},
      "source": [
        "#| fig-align: center\n",
        "#| echo: true\n",
        "#| output: true\n",
        "\n",
        "plt.figure(figsize=(5.8, 3.8))\n",
        "sns.regplot(data=auto_data, x=\"weight\", y=\"mpg\")\n",
        "plt.xlabel(\"Weight (lb)\")\n",
        "plt.ylabel(\"Miles per Gallon (mpg)\")\n",
        "plt.show()"
      ],
      "id": "28314ba4",
      "execution_count": null,
      "outputs": []
    },
    {
      "cell_type": "markdown",
      "metadata": {},
      "source": [
        "## \n",
        "\n",
        "</br>\n",
        "\n",
        "We can modify the line type, thickness, and color using the arguments `linestyle`, `linewidth`, and `color`, respectively, in the `line_kws` argument of the function.\n"
      ],
      "id": "8110728f"
    },
    {
      "cell_type": "code",
      "metadata": {},
      "source": [
        "#| echo: true\n",
        "#| output: false\n",
        "\n",
        "plt.figure(figsize=(8, 6))\n",
        "sns.regplot(data=auto_data, x=\"weight\", y=\"mpg\",  \n",
        "            scatter_kws={\"color\": \"blue\"},\n",
        "            line_kws={\"linestyle\": \"-\", \"linewidth\": 3, \"color\": \"red\", \n",
        "                      \"label\": \"Linear Fit\"})\n",
        "plt.xlabel(\"Weight (lb)\")\n",
        "plt.ylabel(\"Miles per Gallon (mpg)\")\n",
        "plt.legend()\n",
        "plt.show()"
      ],
      "id": "69fd25d2",
      "execution_count": null,
      "outputs": []
    },
    {
      "cell_type": "markdown",
      "metadata": {},
      "source": [
        "## For our example\n",
        "\n",
        "$\\hat{Y}_i = 46.32 -0.0076 X_i$\n"
      ],
      "id": "122a1192"
    },
    {
      "cell_type": "code",
      "metadata": {},
      "source": [
        "#| fig-align: center\n",
        "#| echo: false\n",
        "\n",
        "plt.figure(figsize=(8, 6))\n",
        "sns.regplot(data=auto_data, x=\"weight\", y=\"mpg\",  \n",
        "            scatter_kws={\"color\": \"blue\"},\n",
        "            line_kws={\"linestyle\": \"-\", \"linewidth\": 3, \"color\": \"red\", \n",
        "                      \"label\": \"Linear Fit\"})\n",
        "plt.xlabel(\"Weight (lb)\")\n",
        "plt.ylabel(\"Miles per Gallon (mpg)\")\n",
        "plt.legend()\n",
        "plt.show()"
      ],
      "id": "57951ca3",
      "execution_count": null,
      "outputs": []
    },
    {
      "cell_type": "markdown",
      "metadata": {},
      "source": [
        "## The formula\n",
        "\n",
        "$\\text{mpg}_i = 46.32 - 0.0076 \\times \\text{weight}_i$\n"
      ],
      "id": "69fcbece"
    },
    {
      "cell_type": "code",
      "metadata": {},
      "source": [
        "#| fig-align: center\n",
        "#| echo: false\n",
        "\n",
        "plt.figure(figsize=(8, 6))\n",
        "sns.regplot(data=auto_data, x=\"weight\", y=\"mpg\",  \n",
        "            scatter_kws={\"color\": \"blue\"},\n",
        "            line_kws={\"linestyle\": \"-\", \"linewidth\": 3, \"color\": \"red\", \n",
        "                      \"label\": \"Linear Fit\"})\n",
        "plt.xlabel(\"Weight (lb)\")\n",
        "plt.ylabel(\"Miles per Gallon (mpg)\")\n",
        "plt.legend()\n",
        "plt.show()"
      ],
      "id": "4d70bcda",
      "execution_count": null,
      "outputs": []
    },
    {
      "cell_type": "markdown",
      "metadata": {},
      "source": [
        "## Interpretation of the coefficients\n",
        "\n",
        "[What does $\\hat{\\beta}_0 = 46.32$ mean?]{style=\"color:darkblue;\"}\n",
        "\n",
        ". . .\n",
        "\n",
        "$\\hat{\\beta}_0$ is the average response value when $X_i = 0$.\n"
      ],
      "id": "a2ee6880"
    },
    {
      "cell_type": "code",
      "metadata": {},
      "source": [
        "#| fig-align: center\n",
        "#| echo: false\n",
        "#| out-width: 80%\n",
        "\n",
        "import numpy as np\n",
        "\n",
        "fig, ax = plt.subplots()\n",
        "sns.scatterplot(data=auto_data, x=\"weight\", y=\"mpg\", color=\"blue\", s=50)\n",
        "# Define the regression line\n",
        "x_vals = np.linspace(0, 6000, 100)\n",
        "y_vals = 46.32 + (-0.0076 * x_vals)\n",
        "\n",
        "# Add the regression line\n",
        "plt.plot(x_vals, y_vals, color=\"red\", linestyle=\"-\", label=\"y = 46.32 - 0.0076x\")\n",
        "\n",
        "ax.set_ylim(0, 50)\n",
        "ax.set_xlim(0, 5500)\n",
        "\n",
        "ax.axhline(y=46.317364, linestyle=\"dashed\", color=\"black\")\n",
        "ax.axvline(x=0, linestyle=\"dashed\", color=\"black\")\n",
        "\n",
        "plt.xlabel(\"Weight (lb)\", fontsize=15)\n",
        "plt.ylabel(\"Miles per Gallon\", fontsize=15)\n",
        "plt.xticks(fontsize=10)\n",
        "plt.yticks(fontsize=10)\n",
        "\n",
        "plt.show()"
      ],
      "id": "be028f97",
      "execution_count": null,
      "outputs": []
    },
    {
      "cell_type": "markdown",
      "metadata": {},
      "source": [
        "## \n",
        "\n",
        "Does $\\hat{\\beta}_0 = 46.32$ make sense?\n"
      ],
      "id": "90349b44"
    },
    {
      "cell_type": "code",
      "metadata": {},
      "source": [
        "#| fig-align: center\n",
        "#| echo: false\n",
        "\n",
        "fig, ax = plt.subplots()\n",
        "sns.scatterplot(data=auto_data, x=\"weight\", y=\"mpg\", color=\"blue\", s=50)\n",
        "# Define the regression line\n",
        "x_vals = np.linspace(0, 6000, 100)\n",
        "y_vals = 46.32 + (-0.0076 * x_vals)\n",
        "\n",
        "# Add the regression line\n",
        "plt.plot(x_vals, y_vals, color=\"red\", linestyle=\"-\", label=\"y = 46.32 - 0.0076x\")\n",
        "\n",
        "ax.set_ylim(0, 50)\n",
        "ax.set_xlim(0, 5500)\n",
        "\n",
        "ax.axhline(y=46.317364, linestyle=\"dashed\", color=\"black\")\n",
        "ax.axvline(x=0, linestyle=\"dashed\", color=\"black\")\n",
        "\n",
        "plt.xlabel(\"Weight (lb)\", fontsize=15)\n",
        "plt.ylabel(\"Miles per Gallon\", fontsize=15)\n",
        "plt.xticks(fontsize=10)\n",
        "plt.yticks(fontsize=10)\n",
        "\n",
        "plt.show()"
      ],
      "id": "31890697",
      "execution_count": null,
      "outputs": []
    },
    {
      "cell_type": "markdown",
      "metadata": {},
      "source": [
        ". . .\n",
        "\n",
        "No! Because there are no cars with a weight of 0.\n",
        "\n",
        "## \n",
        "\n",
        "[What does $\\hat{\\beta}_1 = - 0.0076$ mean?]{style=\"color:darkblue;\"}\n",
        "\n",
        ". . .\n",
        "\n",
        "$\\hat{\\beta}_1$ is the average change in the response when $X_i$ increases by one unit.\n"
      ],
      "id": "dfe203ab"
    },
    {
      "cell_type": "code",
      "metadata": {},
      "source": [
        "#| fig-align: center\n",
        "#| echo: false\n",
        "#| out-width: 80%\n",
        "\n",
        "plt.figure(figsize=(7.5, 5.5))\n",
        "sns.regplot(data=auto_data, x=\"weight\", y=\"mpg\",  \n",
        "            scatter_kws={\"color\": \"blue\"},\n",
        "            line_kws={\"linestyle\": \"-\", \"linewidth\": 3, \"color\": \"red\", \n",
        "                      \"label\": \"Linear Fit\"})\n",
        "plt.xlabel(\"Weight (lb)\")\n",
        "plt.ylabel(\"Miles per Gallon (mpg)\")\n",
        "plt.legend()\n",
        "plt.show()"
      ],
      "id": "ada8385e",
      "execution_count": null,
      "outputs": []
    },
    {
      "cell_type": "markdown",
      "metadata": {},
      "source": [
        "## Interpretation of $\\hat{\\beta}_1$\n",
        "\n",
        "</br>\n",
        "\n",
        "</br>\n",
        "\n",
        "*For every extra pound in a car's weight, the car has an average reduction of 0.0076 miles per gallon.*\n",
        "\n",
        "## Do all points fall exactly on the line?\n",
        "\n",
        "</br>\n",
        "\n",
        ". . .\n",
        "\n",
        "No! The model has [**errors**]{style=\"color:darkgreen;\"}.\n",
        "\n",
        ". . .\n",
        "\n",
        "</br>\n",
        "\n",
        "Technically, the error of the *i*-th observation is given by: $e_i = Y_i - \\hat{Y}_i = Y_i - \\hat{\\beta}_0 - \\hat{\\beta}_1 X_i$.\n",
        "\n",
        "## In fact ...\n",
        "\n",
        "</br>\n",
        "\n",
        "The formulas for $\\hat{\\beta}_0$ and $\\hat{\\beta}_1$ are obtained by minimizing the sum of squared errors.\n",
        "\n",
        "Specifically, the [least squares method]{style=\"color:orange;\"} finds $\\hat{\\beta}_0$ and $\\hat{\\beta}_1$ by minimizing the function:\n",
        "\n",
        "\\begin{align}\n",
        "g(\\hat{\\beta}_0, \\hat{\\beta}_1) & = \\sum_{i=1}^{n} (e_{i})^2 = \\sum_{i=1}^{n} (Y_i - (\\hat{\\beta}_0 + \\hat{\\beta}_1 X_i ))^2. \n",
        "\\end{align}\n",
        "\n",
        "## Inspecting the errors\n",
        "\n",
        "The behavior of the errors ($e_i$'s) indicates whether the model is correct or not. If the model is correct, the errors should behave as follows:\n",
        "\n",
        "::: incremental\n",
        "1.  On average, they should **be around 0** for each predicted value $\\hat{Y}_i$.\n",
        "2.  They should have **constant dispersion** around each predicted value $\\hat{Y}_i$.\n",
        "3.  They should be **independent** of each other, meaning they should not be related.\n",
        ":::\n",
        "\n",
        "## Graphical analysis of errors\n",
        "\n",
        "</br>\n",
        "\n",
        "To evaluate these behaviors, we use two scatter plots of the errors:\n",
        "\n",
        "-   **Vertical Axis** = Errors and **Horizontal Axis** = Predictions. This plot helps validate the first two assumptions (**errors around 0 and constant dispersion**).\n",
        "\n",
        "-   **Vertical Axis** = Errors and **Horizontal Axis** = time in which the observation was taken. This graph allows us to validate the third assumption (**independencia**).\n",
        "\n",
        "## statsmodels library\n",
        "\n",
        "-   **statsmodels** is a powerful Python library for statistical modeling, data analysis, and hypothesis testing.\n",
        "-   It provides classes and functions for estimating statistical models.\n",
        "-   It is built on top of libraries such as **NumPy**, **SciPy**, and **pandas**\n",
        "-   <https://www.statsmodels.org/stable/index.html>\n",
        "\n",
        "![](images/statsmodels-logo-v2-horizontal-dark.svg){fig-align=\"center\"}\n",
        "\n",
        "## Load the library\n",
        "\n",
        "</br>\n",
        "\n",
        "Let's import **statsmodels** into Python\n"
      ],
      "id": "2bb903e6"
    },
    {
      "cell_type": "code",
      "metadata": {},
      "source": [
        "#| echo: true\n",
        "#| output: false\n",
        "\n",
        "import statsmodels.api as sm"
      ],
      "id": "fb611a69",
      "execution_count": null,
      "outputs": []
    },
    {
      "cell_type": "markdown",
      "metadata": {},
      "source": [
        "## Fit a linear model\n",
        "\n",
        "</br>\n",
        "\n",
        "To fit a linear model in **statsmodels**, we first split the data set into a vector with the values of the predictor only, and a vector with the response values.\n"
      ],
      "id": "f0729b6c"
    },
    {
      "cell_type": "code",
      "metadata": {},
      "source": [
        "#| echo: true\n",
        "#| output: true\n",
        "\n",
        "# Matrix with predictors.\n",
        "X = auto_data['weight']\n",
        "\n",
        "# Add intercept.\n",
        "X = sm.add_constant(X)  \n",
        "\n",
        "# Matrix with response.\n",
        "Y = auto_data['mpg']"
      ],
      "id": "f24ef5a5",
      "execution_count": null,
      "outputs": []
    },
    {
      "cell_type": "markdown",
      "metadata": {},
      "source": [
        "We also must include a vector of ones to the predictors to account for the intercept.\n",
        "\n",
        "## \n",
        "\n",
        "</br></br>\n",
        "\n",
        "Next, we use the functions `OLS()` and `fit()` from **statsmodels**.\n"
      ],
      "id": "466d648c"
    },
    {
      "cell_type": "code",
      "metadata": {},
      "source": [
        "#| echo: true\n",
        "#| output: false\n",
        "\n",
        "# Create linear regression object\n",
        "regr = sm.OLS(Y, X)\n",
        "\n",
        "# Train the model using the training sets\n",
        "linear_model = regr.fit()"
      ],
      "id": "a06b5273",
      "execution_count": null,
      "outputs": []
    },
    {
      "cell_type": "markdown",
      "metadata": {},
      "source": [
        "## \n",
        "\n",
        "</br>\n",
        "\n",
        "To show the estimated coefficients, we use the argument `params` of the `linear_model` object created previously.\n"
      ],
      "id": "d1e404d0"
    },
    {
      "cell_type": "code",
      "metadata": {},
      "source": [
        "#| echo: true\n",
        "#| output: true\n",
        "\n",
        "# The estimated coefficients.\n",
        "print(linear_model.params)"
      ],
      "id": "3fe0563b",
      "execution_count": null,
      "outputs": []
    },
    {
      "cell_type": "markdown",
      "metadata": {},
      "source": [
        "</br>\n",
        "\n",
        "The elements in the vector above are the estimates $\\hat{\\beta}_0 = 46.317$ and $\\hat{\\beta}_1 = -0.00767$.\n",
        "\n",
        "## Residuals and fitted values\n",
        "\n",
        "</br>\n",
        "\n",
        "To create the plots for the residuals, we need the predicted (fitted) values ($\\hat{Y}_i$'s) of the response and the residuals ($e_i$'s) first. To this end, we use the commands below.\n"
      ],
      "id": "4b85dfc3"
    },
    {
      "cell_type": "code",
      "metadata": {},
      "source": [
        "#| echo: true\n",
        "\n",
        "# Make predictions using the the model\n",
        "Y_pred = linear_model.fittedvalues\n",
        "\n",
        "# Calculate residuals.\n",
        "residuals = linear_model.resid"
      ],
      "id": "aa4c3d5a",
      "execution_count": null,
      "outputs": []
    },
    {
      "cell_type": "markdown",
      "metadata": {},
      "source": [
        "## Constant dispersion\n"
      ],
      "id": "a67ca0bf"
    },
    {
      "cell_type": "code",
      "metadata": {},
      "source": [
        "#| echo: true\n",
        "#| code-fold: true\n",
        "#| fig-align: center\n",
        "\n",
        "# Residual vs Fitted Values Plot\n",
        "plt.figure(figsize=(7.5, 5.5))\n",
        "sns.scatterplot(x = Y_pred, y = residuals, color=\"darkblue\", s = 50)\n",
        "plt.axhline(y=0, color='red', linestyle='--')\n",
        "plt.xlabel('Fitted (predicted) Values', fontsize=15)\n",
        "plt.ylabel('Residuals', fontsize=15)\n",
        "plt.yticks(fontsize=12)\n",
        "plt.xticks(fontsize=12)\n",
        "plt.show()"
      ],
      "id": "d7e82783",
      "execution_count": null,
      "outputs": []
    },
    {
      "cell_type": "markdown",
      "metadata": {},
      "source": [
        "## Independent errors\n"
      ],
      "id": "d1c6cf3b"
    },
    {
      "cell_type": "code",
      "metadata": {},
      "source": [
        "#| echo: true\n",
        "#| code-fold: true\n",
        "#| fig-align: center\n",
        "\n",
        "# Residuals vs Time (Case) Plot\n",
        "plt.figure(figsize=(7.5, 5.5))\n",
        "sns.scatterplot(x = range(len(auto_data)), y = residuals, \n",
        "                color=\"darkblue\", s = 50)\n",
        "plt.axhline(y=0, color='red', linestyle='--')\n",
        "plt.xlabel('Time', fontsize=15)\n",
        "plt.ylabel('Residuals', fontsize=15)\n",
        "plt.yticks(fontsize=12)\n",
        "plt.xticks(fontsize=12)\n",
        "plt.show()"
      ],
      "id": "c44b5756",
      "execution_count": null,
      "outputs": []
    },
    {
      "cell_type": "markdown",
      "metadata": {},
      "source": [
        "## Comments\n",
        "\n",
        "</br>\n",
        "\n",
        "\n",
        "-   The two plots **do not** validate the assumptions of the linear regression model.\n",
        "\n",
        "-   There are methods to correct this, but we will not cover them here.\n",
        "\n",
        "-   If both assumptions are not validated, then the linear regression model is used only as a trend line or a reference for the data.\n",
        "\n",
        "## \n",
        "\n",
        "</br>\n",
        "\n",
        "-   If both assumptions are validated, then the model can be used to predict the response for new observations and to check if there is a significant relationship between $Y$ and $X$.\n",
        "\n",
        "-   You have explored about linear regression in IN1002B.\n",
        "\n",
        "# Local Regression\n",
        "\n",
        "## Local regression\n",
        "\n",
        "This is a modern alternative to the simple linear regression model for capturing complex relationships between two variables.\n",
        "\n",
        "[**Basic Idea**]{style=\"color:darkgray;\"}: It fits linear regression models to small subsets of the data. These subsets consist of observations that are close to each other.\n",
        "\n",
        "The most common method for fitting a local regression model is **LOESS**. We will omit the details of this method here since they require advanced statistical concepts.\n",
        "\n",
        "## \n",
        "\n",
        "In Python, we fit a local regression by setting the `lowess` argument to `True` in the `regplot()` function.\n"
      ],
      "id": "bacb4572"
    },
    {
      "cell_type": "code",
      "metadata": {},
      "source": [
        "#| fig-align: center\n",
        "#| echo: true\n",
        "\n",
        "plt.figure(figsize=(7, 5))\n",
        "sns.regplot(data=auto_data, x=\"weight\", y=\"mpg\", lowess=True)\n",
        "plt.show()"
      ],
      "id": "d0e4d9e7",
      "execution_count": null,
      "outputs": []
    },
    {
      "cell_type": "markdown",
      "metadata": {},
      "source": [
        "## \n",
        "\n",
        "We can change the color, thickness, and line type using the `color`, `linewidth`, and `linestyle`,arguments in the `line_kws` argument function.\n"
      ],
      "id": "40828c96"
    },
    {
      "cell_type": "code",
      "metadata": {},
      "source": [
        "#| fig-align: center\n",
        "\n",
        "plt.figure(figsize=(6, 4))\n",
        "sns.regplot(data=auto_data, x=\"weight\", y=\"mpg\", scatter=True, lowess=True,\n",
        "            line_kws={\"color\": \"red\", \"linewidth\": 2, \"linestyle\": \"--\"})\n",
        "plt.show()"
      ],
      "id": "42ab3a17",
      "execution_count": null,
      "outputs": []
    },
    {
      "cell_type": "markdown",
      "metadata": {},
      "source": [
        "## Another example\n",
        "\n",
        "Let's consider the relationship between car acceleration (`acceleration`) and the total volume of all engine cylinders (`displacement`).\n"
      ],
      "id": "a0954230"
    },
    {
      "cell_type": "code",
      "metadata": {},
      "source": [
        "#| fig-align: center\n",
        "#| echo: true\n",
        "\n",
        "plt.figure(figsize=(5.5, 3.5))\n",
        "sns.scatterplot(data=auto_data, x=\"displacement\", y=\"acceleration\")\n",
        "plt.show()"
      ],
      "id": "8fe4556f",
      "execution_count": null,
      "outputs": []
    },
    {
      "cell_type": "markdown",
      "metadata": {},
      "source": [
        "## Linear regression\n"
      ],
      "id": "79fb0f0b"
    },
    {
      "cell_type": "code",
      "metadata": {},
      "source": [
        "#| echo: true\n",
        "#| fig-align: center\n",
        "\n",
        "plt.figure(figsize=(7, 5))\n",
        "sns.regplot(data=auto_data, x=\"displacement\", y=\"acceleration\", \n",
        "            scatter=True)\n",
        "plt.show()"
      ],
      "id": "d13c694f",
      "execution_count": null,
      "outputs": []
    },
    {
      "cell_type": "markdown",
      "metadata": {},
      "source": [
        "## Local regression\n"
      ],
      "id": "b306490b"
    },
    {
      "cell_type": "code",
      "metadata": {},
      "source": [
        "#| echo: true\n",
        "#| fig-align: center\n",
        "\n",
        "plt.figure(figsize=(7, 5))\n",
        "sns.regplot(data=auto_data, x=\"displacement\", y=\"acceleration\", \n",
        "            scatter=True, lowess = True)\n",
        "plt.show()"
      ],
      "id": "7a890491",
      "execution_count": null,
      "outputs": []
    },
    {
      "cell_type": "markdown",
      "metadata": {},
      "source": [
        "## Discussion\n",
        "\n",
        "</br>\n",
        "\n",
        "-   The simple linear regression model is easy to interpret due to its structure:\n",
        "\n",
        "$$\n",
        "\\hat{Y}_i = \\hat{\\beta}_0 + \\hat{\\beta}_1 X_i.\n",
        "$$\n",
        "\n",
        "-   However, it may be too rigid to capture complex relationships between two variables.\n",
        "\n",
        "## \n",
        "\n",
        "</br>\n",
        "\n",
        "-   Local regression is flexible and allows capturing complex relationships between two variables.\n",
        "\n",
        "-   However, it has a low level of interpretability because it does not provide an explicit equation to relate the predictor $X$ to the response $Y$.\n",
        "\n",
        "# [Return to the main page](https://alanrvazquez.github.io/TEC-IN2039-EN/)"
      ],
      "id": "30884a9d"
    }
  ],
  "metadata": {
    "kernelspec": {
      "name": "python3",
      "language": "python",
      "display_name": "Python 3 (ipykernel)",
      "path": "/Users/alanvazquez/Documents/GitHub/TEC-IN2039-EN/env/share/jupyter/kernels/python3"
    }
  },
  "nbformat": 4,
  "nbformat_minor": 5
}