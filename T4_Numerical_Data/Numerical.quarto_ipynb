{
  "cells": [
    {
      "cell_type": "markdown",
      "metadata": {},
      "source": [
        "---\n",
        "title: \"Tools for Data Science: Part II\"\n",
        "subtitle: \"IN1002B: Introduction to Data Science Projects\"\n",
        "author: \n",
        "  - name: Alan R. Vazquez\n",
        "    affiliations:\n",
        "      - name: Department of Industrial Engineering\n",
        "format: \n",
        "  revealjs:\n",
        "    chalkboard: false\n",
        "    multiplex: true\n",
        "    footer: \"Tecnologico de Monterrey\"\n",
        "    logo: IN1002b_logo.png\n",
        "    css: style.css\n",
        "    slide-number: True\n",
        "    html-math-method: mathjax\n",
        "editor: visual\n",
        "jupyter: python3\n",
        "---\n",
        "\n",
        "\n",
        "\n",
        "\n",
        "\n",
        "## Agenda\n",
        "\n",
        "1.  Review of data types and summary statistics\n",
        "2.  Data visualizations\n",
        "\n",
        "# Review of data types and summary statistics\n",
        "\n",
        "## Types of data I\n",
        "\n",
        "</br>\n",
        "\n",
        "When a numerical quantity designating how much or how many is assigned to each item in the sample, the resulting set of values is [**numerical**]{style=\"color:lightblue;\"} or [**quantitative**]{style=\"color:lightblue;\"}.\n",
        "\n",
        "-   Height (in ft).\n",
        "-   Weight (in lbs).\n",
        "-   Age (in years).\n",
        "\n",
        "## Types of data II\n",
        "\n",
        "</br>\n",
        "\n",
        "When sample items are placed into categories and category names are assigned to the sample items, the data are [**categorical**]{style=\"color:pink;\"} or [**qualitative**]{style=\"color:pink;\"}.\n",
        "\n",
        "-   Hair color.\n",
        "-   Country of origin.\n",
        "-   ZIP code.\n",
        "\n",
        "## Data types\n",
        "\n",
        "![](images/Images.002.jpeg){fig-align=\"center\"}\n",
        "\n",
        "## Example 1\n",
        "\n",
        "Let's load the data in \"penguins.xlsx\".\n"
      ],
      "id": "ffbd4600"
    },
    {
      "cell_type": "code",
      "metadata": {},
      "source": [
        "#| echo: true\n",
        "\n",
        "# Load pandas.\n",
        "import pandas as pd\n",
        "\n",
        "# Load the Excel file into a pandas DataFrame.\n",
        "penguins_data = pd.read_excel(\"penguins.xlsx\")\n",
        "\n",
        "# Print the first 4 rows of the dataset.\n",
        "penguins_data.head(4)"
      ],
      "id": "86f15d04",
      "execution_count": null,
      "outputs": []
    },
    {
      "cell_type": "markdown",
      "metadata": {},
      "source": [
        "## \n",
        "\n",
        "In python, we check the type of each variable in a dataset using the function `info()`.\n"
      ],
      "id": "ee768fde"
    },
    {
      "cell_type": "code",
      "metadata": {},
      "source": [
        "#| echo: true\n",
        "\n",
        "penguins_data.info()"
      ],
      "id": "0711bc62",
      "execution_count": null,
      "outputs": []
    },
    {
      "cell_type": "markdown",
      "metadata": {},
      "source": [
        "## General python formats\n",
        "\n",
        "-   `float64` format for numerical variables with decimals.\n",
        "-   `int64` format for numerical variables with integers.\n",
        "-   `object` format for general variables with characters.\n",
        "\n",
        "## Define categorical variables\n",
        "\n",
        "Technically, the variable `sex` in `penguins_data` is [**categorical**]{style=\"color:pink;\"}. To explicitly tell this to python, we use the following code.\n"
      ],
      "id": "dc3a13ce"
    },
    {
      "cell_type": "code",
      "metadata": {},
      "source": [
        "#| echo: true\n",
        "\n",
        "penguins_data['sex'] = penguins_data['sex'].astype('category')"
      ],
      "id": "f25ff15a",
      "execution_count": null,
      "outputs": []
    },
    {
      "cell_type": "markdown",
      "metadata": {},
      "source": [
        "Setting `sex` to categorical allows us to use effective visualization for this data.\n",
        "\n",
        "We do the same for the other categorical variables `species` and `island`.\n"
      ],
      "id": "be6e325b"
    },
    {
      "cell_type": "code",
      "metadata": {},
      "source": [
        "#| echo: true\n",
        "\n",
        "penguins_data['species'] = penguins_data['species'].astype('category')\n",
        "penguins_data['island'] = penguins_data['island'].astype('category')"
      ],
      "id": "8ff9d03d",
      "execution_count": null,
      "outputs": []
    },
    {
      "cell_type": "markdown",
      "metadata": {},
      "source": [
        "## \n",
        "\n",
        "Let's check the type of variables again.\n"
      ],
      "id": "33ac38c7"
    },
    {
      "cell_type": "code",
      "metadata": {},
      "source": [
        "#| echo: true\n",
        "\n",
        "penguins_data.info()"
      ],
      "id": "cc4a1b9f",
      "execution_count": null,
      "outputs": []
    },
    {
      "cell_type": "markdown",
      "metadata": {},
      "source": [
        "## Summary statistics\n",
        "\n",
        "A sample is often a long list of numbers. To help make the important features of a sample stand out, we compute summary statistics.\n",
        "\n",
        "For **numerical** data, the most popular summary statistics are:\n",
        "\n",
        "::: incremental\n",
        "-   [Sample mean]{style=\"color:darkblue;\"}\n",
        "-   [Sample variance]{style=\"color:darkblue;\"} and [sample standard deviation]{style=\"color:darkblue;\"}\n",
        "-   [Sample quartiles]{style=\"color:darkgreen;\"}\n",
        "-   Sample maximum and minimum\n",
        ":::\n",
        "\n",
        "## Sample mean\n",
        "\n",
        "</br>\n",
        "\n",
        "Let $y_1, y_2, \\ldots, y_n$ be an observed sample of size $n$.\n",
        "\n",
        "The sample mean is\n",
        "\n",
        "$$\\bar{y} = \\frac{1}{n}\\sum_{i=1}^{n} y_i = \\frac{y_1 + y_2 + \\cdots + y_n}{n}.$$\n",
        "\n",
        "The sample mean gives an indication of the center of the data.\n",
        "\n",
        "## In python\n",
        "\n",
        "The sample mean is calculated using the function `mean()`.\n"
      ],
      "id": "c5918317"
    },
    {
      "cell_type": "code",
      "metadata": {},
      "source": [
        "#| echo: true\n",
        "#| output: true\n",
        "\n",
        "bill_length_mean = penguins_data['bill_length_mm'].mean()\n",
        "print(bill_length_mean)"
      ],
      "id": "c6036d1e",
      "execution_count": null,
      "outputs": []
    },
    {
      "cell_type": "markdown",
      "metadata": {},
      "source": [
        "We use the function print to show the number. Otherwise, python will show the computer type of value stored in `bill_length_mean`.\n",
        "\n",
        "You can also round the result to, say, three decimals.\n"
      ],
      "id": "69792732"
    },
    {
      "cell_type": "code",
      "metadata": {},
      "source": [
        "#| echo: true\n",
        "#| output: true\n",
        "\n",
        "print( round(bill_length_mean, 3) )"
      ],
      "id": "a8a22862",
      "execution_count": null,
      "outputs": []
    },
    {
      "cell_type": "markdown",
      "metadata": {},
      "source": [
        "## Sample variance\n",
        "\n",
        "</br>\n",
        "\n",
        "Let $y_1, y_2, \\ldots, y_n$ be an observed sample of size $n$. The sample mean is\n",
        "\n",
        "$$\n",
        "s^2 = \\frac{1}{n-1} \\sum_{i=1}^{n} (y_i - \\bar{y})^2 = \\frac{(y_1 - \\bar{y})^2  + \\cdots + (y_n - \\bar{y})^2}{n-1}\n",
        "$$\n",
        "\n",
        ". . .\n",
        "\n",
        "*The sample variance is like an average of the squared differences between each observation and the sample mean.*\n",
        "\n",
        "It gives an indication of how spread out the data are.\n",
        "\n",
        "## \n",
        "\n",
        "</br></br>\n",
        "\n",
        "In python, the sample variance is calculated using the function `var()`.\n"
      ],
      "id": "ea8789c8"
    },
    {
      "cell_type": "code",
      "metadata": {},
      "source": [
        "#| echo: true\n",
        "#| output: true\n",
        "\n",
        "bill_length_var = penguins_data['bill_length_mm'].var()\n",
        "print( round(bill_length_var, 3) )"
      ],
      "id": "11a9dc36",
      "execution_count": null,
      "outputs": []
    },
    {
      "cell_type": "markdown",
      "metadata": {},
      "source": [
        "## Sample standard deviation\n",
        "\n",
        "A drawback of the sample variance is that it is not on the same scale as the actual observations.\n",
        "\n",
        "To obtain a measure of spread whose units are the same as those of the sample, we simply take the squared root of the sample variance\n",
        "\n",
        "$$\n",
        "s = \\left(\\frac{1}{n-1} \\sum_{i=1}^{n} (y_i - \\bar{y})^2 \\right)^{1/2}\n",
        "$$\n",
        "\n",
        "This quantity is known as the sample standard deviation. [*It is in the same units as the observations*]{style=\"color:purple;\"}.\n",
        "\n",
        "## \n",
        "\n",
        "</br></br>\n",
        "\n",
        "In python, the sample variance is calculated using the function `std()`.\n"
      ],
      "id": "e163ff06"
    },
    {
      "cell_type": "code",
      "metadata": {},
      "source": [
        "#| echo: true\n",
        "#| output: true\n",
        "\n",
        "bill_length_std = penguins_data['bill_length_mm'].std()\n",
        "print( round(bill_length_std, 3) )"
      ],
      "id": "a73fc487",
      "execution_count": null,
      "outputs": []
    },
    {
      "cell_type": "markdown",
      "metadata": {},
      "source": [
        "## Sample quartiles\n",
        "\n",
        "The [**sample median**]{style=\"color:darkgreen;\"} is the middle number of the ordered data values.\n",
        "\n",
        ". . .\n",
        "\n",
        "[**Sample quartiles**]{style=\"color:darkgreen;\"} divide the data as nearly as possible into quarters:\n",
        "\n",
        "::: incremental\n",
        "-   First quartile ($Q_1$) is the median of the lower half of the data.\n",
        "\n",
        "-   Second quartile ($Q_2$) is the median of the data.\n",
        "\n",
        "-   Third quartile ($Q_3$) is the median of the upper half of the data.\n",
        ":::\n",
        "\n",
        "## \n",
        "\n",
        "</br></br>\n",
        "\n",
        "![](images/clipboard-838628209.png)\n",
        "\n",
        "## \n",
        "\n",
        "</br>\n",
        "\n",
        "In python, the quartiles are calculated using the function `quantile()`.\n"
      ],
      "id": "e4c241cc"
    },
    {
      "cell_type": "code",
      "metadata": {},
      "source": [
        "#| echo: true\n",
        "#| output: true\n",
        "\n",
        "# Set the quantiles.\n",
        "set_quantiles = [0.25, 0.5, 0.75]\n",
        "# Compute the quantiles.\n",
        "penguins_data['bill_length_mm'].quantile(set_quantiles)"
      ],
      "id": "a8f32963",
      "execution_count": null,
      "outputs": []
    },
    {
      "cell_type": "markdown",
      "metadata": {},
      "source": [
        "## Sample maximum and minimum\n",
        "\n",
        "Other relevant summary statistics are the **maximum** and **minimum**, which are calculated using the functions `max()` and `min()`, respectively.\n"
      ],
      "id": "0677c215"
    },
    {
      "cell_type": "code",
      "metadata": {},
      "source": [
        "#| echo: true\n",
        "#| output: true\n",
        "\n",
        "bill_length_max = penguins_data['bill_length_mm'].max()\n",
        "print(bill_length_max)"
      ],
      "id": "4fdb2194",
      "execution_count": null,
      "outputs": []
    },
    {
      "cell_type": "markdown",
      "metadata": {},
      "source": [
        "</br>\n"
      ],
      "id": "5eb4f58d"
    },
    {
      "cell_type": "code",
      "metadata": {},
      "source": [
        "#| echo: true\n",
        "#| output: true\n",
        "\n",
        "bill_length_min = penguins_data['bill_length_mm'].min()\n",
        "print(bill_length_min)"
      ],
      "id": "63c13606",
      "execution_count": null,
      "outputs": []
    },
    {
      "cell_type": "markdown",
      "metadata": {},
      "source": [
        "## Summary statistics for categorical data\n",
        "\n",
        "The most commonly used statistical summaries for categorical data are:\n",
        "\n",
        "-   The [**frequency**]{style=\"color:darkblue;\"} of a category is the number of observations that belong to that category.\n",
        "\n",
        "-   The [**relative frequency**]{style=\"color:darkblue;\"} is the frequency divided by the total number of observations.\n",
        "\n",
        "## Frequency table\n",
        "\n",
        "Summarizes a categorical variable by counting the values per category.\n",
        "\n",
        "::::: columns\n",
        "::: {.column width=\"50%\"}\n"
      ],
      "id": "0d820d74"
    },
    {
      "cell_type": "code",
      "metadata": {},
      "source": [
        "#| echo: true\n",
        "#| output: true\n",
        "#| code-overflow: wrap\n",
        "\n",
        "penguins_data['species'].value_counts()"
      ],
      "id": "e29619d4",
      "execution_count": null,
      "outputs": []
    },
    {
      "cell_type": "markdown",
      "metadata": {},
      "source": [
        ":::\n",
        "\n",
        "::: {.column width=\"50%\"}\n",
        "| **Especie** | **Frecuencia** |\n",
        "|-------------|----------------|\n",
        "| Adelie      | 152            |\n",
        "| Chinstrap   | 68             |\n",
        "| Gentoo      | 124            |\n",
        "| **Total**   | **344**        |\n",
        ":::\n",
        ":::::\n",
        "\n",
        "-   **Frequency**: Number of observations in each category.\n",
        "\n",
        "-   **Total**: Total sum of observations.\n",
        "\n",
        "::: notes\n",
        "1.  Ventajas de las frequencias.\n",
        "\n",
        "2.  Resumen claro y conciso de los datos categóricos.\n",
        "\n",
        "3.  Facilita la identificación de patrones y tendencias.\n",
        "\n",
        "4.  Ayuda en la toma de decisiones informadas.\n",
        ":::\n",
        "\n",
        "## Relative Frequency Table\n",
        "\n",
        "Summarizes a categorical variable by calculating the *proportion of values* per category.\n",
        "\n",
        "::::: columns\n",
        "::: {.column width=\"55%\"}\n"
      ],
      "id": "cd3afdbe"
    },
    {
      "cell_type": "code",
      "metadata": {},
      "source": [
        "#| echo: true\n",
        "#| output: true\n",
        "#| code-overflow: wrap\n",
        "\n",
        "# Calculate number of observations in the dataset.\n",
        "n = len(penguins_data) \n",
        "\n",
        "# Calculate relative frequency.\n",
        "penguins_data['species'].value_counts()/n"
      ],
      "id": "d447397f",
      "execution_count": null,
      "outputs": []
    },
    {
      "cell_type": "markdown",
      "metadata": {},
      "source": [
        ":::\n",
        "\n",
        "::: {.column width=\"45%\"}\n",
        "| **Specie** | **Relative Frequency** |\n",
        "|------------|------------------------|\n",
        "| Adelie     | 0.4418605              |\n",
        "| Chinstrap  | 0.1976744              |\n",
        "| Gentoo     | 0.3604651              |\n",
        "| **Suma**   | **1**                  |\n",
        ":::\n",
        ":::::\n",
        "\n",
        "-   **Relative frequency**: Number of observations in each category divided by the total.\n",
        "\n",
        "::: notes\n",
        "La ventaja de la frequencia relativa es que se puede interpretar como una probabilidad. Lo que da mas información.\n",
        ":::\n",
        "\n",
        "# Data visualizations\n",
        "\n",
        "## Example 2\n",
        "\n",
        "</br>\n",
        "\n",
        "A criminologist is developing a rule-based system to classify the types of glasses encountered in criminal investigations.\n",
        "\n",
        "The data consist of 214 glass samples labeled as one of seven class categories.\n",
        "\n",
        "There are nine predictors, including refractive index and percentages of eight elements: Na, Mg, AL, Is, K, Ca, Ba, and Fe. The response is the type of glass.\n",
        "\n",
        "## \n",
        "\n",
        "</br>\n",
        "\n",
        "The dataset is in the file \"glass.xlsx\". Let's load it using **pandas**.\n"
      ],
      "id": "72bebf60"
    },
    {
      "cell_type": "code",
      "metadata": {},
      "source": [
        "#| echo: true\n",
        "#| output: true\n",
        "\n",
        "# Load the Excel file into a pandas DataFrame.\n",
        "glass_data = pd.read_excel(\"glass.xlsx\")"
      ],
      "id": "d46c2505",
      "execution_count": null,
      "outputs": []
    },
    {
      "cell_type": "markdown",
      "metadata": {},
      "source": [
        "</br>\n",
        "\n",
        "The variable `Type` is categorical. So, let's ensure python knows this using the code below.\n"
      ],
      "id": "718e9208"
    },
    {
      "cell_type": "code",
      "metadata": {},
      "source": [
        "#| echo: true\n",
        "#| output: true\n",
        "\n",
        "glass_data['Type'] = glass_data['Type'].astype('category')"
      ],
      "id": "5c44519d",
      "execution_count": null,
      "outputs": []
    },
    {
      "cell_type": "markdown",
      "metadata": {},
      "source": [
        "## matplotlib library\n",
        "\n",
        "-   **matplotlib** is a comprehensive library for creating static, animated, and interactive visualizations in Python\n",
        "-   It is widely used in the data science community for plotting data in various formats\n",
        "-   Ideal for creating simple visualizations like line plots, bar charts, scatter plots, and more\n",
        "-   <https://matplotlib.org/>\n",
        "\n",
        "![](images/matplotlib.png){fig-align=\"center\"}\n",
        "\n",
        "## seaborn library\n",
        "\n",
        "-   **seaborn** is a Python library built on top of Matplotlib\n",
        "-   Designed to make statistical data visualization easy and beautiful\n",
        "-   Ideal for creating informative and attractive visualizations with minimal code\n",
        "-   <https://seaborn.pydata.org/index.html>\n",
        "\n",
        "![](images/seaborn.png){fig-align=\"center\"}\n",
        "\n",
        "## Importing the libraries\n",
        "\n",
        "</br>\n",
        "\n",
        "The **matplotlib** and **seaborn** libraries are pre-installed in Google Colab. However, we need to inform Google Colab that we want to use them and its functions using the following command:\n"
      ],
      "id": "5b62319e"
    },
    {
      "cell_type": "code",
      "metadata": {},
      "source": [
        "#| echo: true\n",
        "\n",
        "import matplotlib.pyplot as plt\n",
        "import seaborn as sns"
      ],
      "id": "610b35b1",
      "execution_count": null,
      "outputs": []
    },
    {
      "cell_type": "markdown",
      "metadata": {},
      "source": [
        "Similar to **pandas**, the command `as sns` allows us to have a short name for **seaborn**. Similarly, we rename **matplotlib** as **plt**.\n",
        "\n",
        "## Histogram\n",
        "\n",
        "</br></br>\n",
        "\n",
        "Graphical display that gives an idea of the “shape” of the sample, indicating regions where sample points are concentrated and regions where they are sparse.\n",
        "\n",
        "</br>\n",
        "\n",
        "The bars of the histogram touch each other. A space indicates that there are no observations in that interval.\n",
        "\n",
        "## Histogram of Na\n",
        "\n",
        "To create a histogram, we use the function `histplot()` from **seabron**.\n"
      ],
      "id": "4326cf40"
    },
    {
      "cell_type": "code",
      "metadata": {},
      "source": [
        "#| echo: true\n",
        "#| output: true\n",
        "#| fig-align: center\n",
        "#| code-fold: true\n",
        "\n",
        "plt.figure(figsize=(7,4)) # Create space for figure.\n",
        "sns.histplot(data = glass_data, x = 'Na') # Create the histogram.\n",
        "plt.title(\"Histogram of Na\") # Plot title.\n",
        "plt.xlabel(\"Na\") # X label\n",
        "plt.show() # Display the plot"
      ],
      "id": "838b48ad",
      "execution_count": null,
      "outputs": []
    },
    {
      "cell_type": "markdown",
      "metadata": {},
      "source": [
        "## Box plot\n",
        "\n",
        "</br>\n",
        "\n",
        "A box plot is a graphic that presents the median, the first and third quartiles, and any “outliers” present in the sample.\n",
        "\n",
        "</br>\n",
        "\n",
        "The interquartile range (IQR) is the difference between the third quartile and the first quartile ($Q_3 - Q_1$). This is the distance needed to span the middle half of the data.\n",
        "\n",
        "## Anatomy of a box plot\n",
        "\n",
        "![](images/anatomy.png){fig-align=\"center\"}\n",
        "\n",
        "See also [**https://towardsdatascience.com/why-1-5-in-iqr-method-of-outlier-detection-5d07fdc82097**](#0){.uri}\n",
        "\n",
        "## Box plot of Na\n",
        "\n",
        "To create a boxplot, we use the function `boxplot()` from **seabron**.\n"
      ],
      "id": "7da6acdc"
    },
    {
      "cell_type": "code",
      "metadata": {},
      "source": [
        "#| echo: true\n",
        "#| output: true\n",
        "#| fig-align: center\n",
        "#| code-fold: true\n",
        "\n",
        "plt.figure(figsize=(7,4)) # Create space for the figure.\n",
        "sns.boxplot(data = glass_data, y = 'Na') # Create boxplot.\n",
        "plt.title(\"Box plot of Na\") # Add title.\n",
        "plt.show() # Show the plot."
      ],
      "id": "8e1a4219",
      "execution_count": null,
      "outputs": []
    },
    {
      "cell_type": "markdown",
      "metadata": {},
      "source": [
        "## Outliers\n",
        "\n",
        "</br>\n",
        "\n",
        "Outliers are points that are much larger or smaller than the rest of the sample points.\n",
        "\n",
        "Outliers may be data entry errors or they may be points that really are different from the rest.\n",
        "\n",
        "Outliers should not be deleted without considerable thought—sometimes calculations and analyses will be done with and without outliers and then compared.\n",
        "\n",
        "## Scatter plot\n",
        "\n",
        "</br>\n",
        "\n",
        "Data for which items consists of a pair of numeric values is called bivariate. The graphical summary for bivariate data is a *scatterplot*.\n",
        "\n",
        "The variables $X$ and $Y$ are placed on the horizontal and vertical axes, respectively. Each point on the graph marks the position of a pair of values of $X$ and $Y$.\n",
        "\n",
        "A scatterplot allows us to explore lineal and nonlinear relationships between two variables.\n",
        "\n",
        "## Scatter plot of Na versus RI\n",
        "\n",
        "To create a scatter plot, we use the function `scatter()` from **seabron**. In this function, you must state the\n"
      ],
      "id": "3c65e2e0"
    },
    {
      "cell_type": "code",
      "metadata": {},
      "source": [
        "#| echo: true\n",
        "#| output: true\n",
        "#| fig-align: center\n",
        "#| code-fold: true\n",
        "\n",
        "plt.figure(figsize=(7,4)) # Create space for the plot.\n",
        "sns.scatterplot(data = glass_data, x = 'Na', y = 'RI') # Show the plot.\n",
        "plt.title(\"Scatter plot of Na vs RI\") # Set plot title.\n",
        "plt.xlabel(\"Na\") # Set label for X axis.\n",
        "plt.ylabel(\"RI\") # Set label for Y axis.\n",
        "plt.show() # Show plot."
      ],
      "id": "3ae83303",
      "execution_count": null,
      "outputs": []
    },
    {
      "cell_type": "markdown",
      "metadata": {},
      "source": [
        "## Bar charts\n",
        "\n",
        "Bar charts are commonly used to describe [**qualitative**]{style=\"color:pink;\"} data classified into various categories based on sector, region, different time periods, or other such factors.\n",
        "\n",
        "Different sectors, different regions, or different time periods are then labeled as specific categories.\n",
        "\n",
        "A bar chart is constructed by creating categories that are represented by labeling each category and which are represented by intervals of equal length on a horizontal axis.\n",
        "\n",
        "The count or frequency within the corresponding category is represented by a bar of height proportional to the frequency.\n",
        "\n",
        "## \n",
        "\n",
        "We create the bar chart using the function `countplot()` from **seaborn**.\n"
      ],
      "id": "135506ef"
    },
    {
      "cell_type": "code",
      "metadata": {},
      "source": [
        "#| echo: true\n",
        "#| output: true\n",
        "#| fig-align: center\n",
        "#| code-fold: true\n",
        "\n",
        "# Create plot.\n",
        "plt.figure(figsize=(7,4)) # Create space for the plot.\n",
        "sns.countplot(data = glass_data, x = 'Type') # Show the plot.\n",
        "plt.title(\"Bar chart of Type of Glasses\") # Set plot title.\n",
        "plt.ylabel(\"Frequency\") # Set label for Y axis.\n",
        "plt.show() # Show plot."
      ],
      "id": "d088900e",
      "execution_count": null,
      "outputs": []
    },
    {
      "cell_type": "markdown",
      "metadata": {},
      "source": [
        "## Saving plots\n",
        "\n",
        "</br>\n",
        "\n",
        "We save a figure using the `save.fig` function from **matplotlib**. The `dpi` argument of this function sets the resolution of the image. The higher the `dpi`, the better the resolution.\n"
      ],
      "id": "1bd72032"
    },
    {
      "cell_type": "code",
      "metadata": {},
      "source": [
        "#| echo: true\n",
        "#| output: false\n",
        "\n",
        "plt.figure(figsize=(5, 7))\n",
        "sns.countplot(data = glass_data, x = 'Type')\n",
        "plt.title('Frequency of Each Category')\n",
        "plt.ylabel('Frequency')\n",
        "plt.xlabel('Category')\n",
        "plt.savefig('bar_chart.png',dpi=300)"
      ],
      "id": "cf378d9e",
      "execution_count": null,
      "outputs": []
    },
    {
      "cell_type": "markdown",
      "metadata": {},
      "source": [
        "## Improving the figure\n",
        "\n",
        "</br>\n",
        "\n",
        "We can also use other functions to improve the aspect of the figure:\n",
        "\n",
        "-   `plt.title(fontsize)`: Font size of the title.\n",
        "-   `plt.ylabel(fontsize)`: Font size of y axis title.\n",
        "-   `plt.xlabel(fontsize)`: Font size of x axis title.\n",
        "-   `plt.yticks(fontsize)`: Font size of the y axis labels.\n",
        "-   `plt.xticks(fontsize)`: Font size of the x axis labels.\n",
        "\n",
        "## \n"
      ],
      "id": "ea21a2d8"
    },
    {
      "cell_type": "code",
      "metadata": {},
      "source": [
        "#| echo: true\n",
        "#| output: true\n",
        "#| fig-align: center\n",
        "\n",
        "plt.figure(figsize=(5, 5))\n",
        "sns.countplot(data = glass_data, x = 'Type')\n",
        "plt.title('Relative Frequency of Each Category', fontsize = 12)\n",
        "plt.ylabel('Relative Frequency', fontsize = 12)\n",
        "plt.xlabel('Category', fontsize = 15)\n",
        "plt.xticks(fontsize = 12)\n",
        "plt.yticks(fontsize = 12)\n",
        "plt.savefig('bar_chart.png',dpi=300)"
      ],
      "id": "8258a415",
      "execution_count": null,
      "outputs": []
    },
    {
      "cell_type": "markdown",
      "metadata": {},
      "source": [
        "# [Return to main page](https://alanrvazquez.github.io/TEC-IN1002B-Website/)"
      ],
      "id": "7411cce8"
    }
  ],
  "metadata": {
    "kernelspec": {
      "name": "python3",
      "language": "python",
      "display_name": "Python 3 (ipykernel)",
      "path": "/Users/alanrvazquez/GitHub/TEC-IN2039-EN/env/share/jupyter/kernels/python3"
    }
  },
  "nbformat": 4,
  "nbformat_minor": 5
}